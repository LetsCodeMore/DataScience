{
 "cells": [
  {
   "cell_type": "markdown",
   "metadata": {},
   "source": [
    "We are working with data on the average life expectancy at birth and the average BMI for males across the world. The data comes from Gapminder.\n",
    "\n",
    "The data file can be found under the \"bmi_and_life_expectancy.csv\" tab in the quiz below. It includes three columns, containing the following data:\n",
    "\n",
    "    Country – The country the person was born in.\n",
    "    Life expectancy – The average life expectancy at birth for a person in that country.\n",
    "    BMI – The mean BMI of males in that country."
   ]
  },
  {
   "cell_type": "code",
   "execution_count": 1,
   "metadata": {},
   "outputs": [],
   "source": [
    "#import modules\n",
    "import pandas as pd\n",
    "#For your linear regression model, you'll be using scikit-learn's LinearRegression class\n",
    "from sklearn.linear_model import LinearRegression"
   ]
  },
  {
   "cell_type": "markdown",
   "metadata": {},
   "source": [
    "## Load the data"
   ]
  },
  {
   "cell_type": "code",
   "execution_count": 2,
   "metadata": {},
   "outputs": [
    {
     "data": {
      "text/html": [
       "<div>\n",
       "<style scoped>\n",
       "    .dataframe tbody tr th:only-of-type {\n",
       "        vertical-align: middle;\n",
       "    }\n",
       "\n",
       "    .dataframe tbody tr th {\n",
       "        vertical-align: top;\n",
       "    }\n",
       "\n",
       "    .dataframe thead th {\n",
       "        text-align: right;\n",
       "    }\n",
       "</style>\n",
       "<table border=\"1\" class=\"dataframe\">\n",
       "  <thead>\n",
       "    <tr style=\"text-align: right;\">\n",
       "      <th></th>\n",
       "      <th>Country</th>\n",
       "      <th>Life expectancy</th>\n",
       "      <th>BMI</th>\n",
       "    </tr>\n",
       "  </thead>\n",
       "  <tbody>\n",
       "    <tr>\n",
       "      <th>0</th>\n",
       "      <td>Afghanistan</td>\n",
       "      <td>52.8</td>\n",
       "      <td>20.62058</td>\n",
       "    </tr>\n",
       "    <tr>\n",
       "      <th>1</th>\n",
       "      <td>Albania</td>\n",
       "      <td>76.8</td>\n",
       "      <td>26.44657</td>\n",
       "    </tr>\n",
       "    <tr>\n",
       "      <th>2</th>\n",
       "      <td>Algeria</td>\n",
       "      <td>75.5</td>\n",
       "      <td>24.59620</td>\n",
       "    </tr>\n",
       "    <tr>\n",
       "      <th>3</th>\n",
       "      <td>Andorra</td>\n",
       "      <td>84.6</td>\n",
       "      <td>27.63048</td>\n",
       "    </tr>\n",
       "    <tr>\n",
       "      <th>4</th>\n",
       "      <td>Angola</td>\n",
       "      <td>56.7</td>\n",
       "      <td>22.25083</td>\n",
       "    </tr>\n",
       "    <tr>\n",
       "      <th>...</th>\n",
       "      <td>...</td>\n",
       "      <td>...</td>\n",
       "      <td>...</td>\n",
       "    </tr>\n",
       "    <tr>\n",
       "      <th>158</th>\n",
       "      <td>Vanuatu</td>\n",
       "      <td>63.4</td>\n",
       "      <td>26.78926</td>\n",
       "    </tr>\n",
       "    <tr>\n",
       "      <th>159</th>\n",
       "      <td>West Bank and Gaza</td>\n",
       "      <td>74.1</td>\n",
       "      <td>26.57750</td>\n",
       "    </tr>\n",
       "    <tr>\n",
       "      <th>160</th>\n",
       "      <td>Vietnam</td>\n",
       "      <td>74.1</td>\n",
       "      <td>20.91630</td>\n",
       "    </tr>\n",
       "    <tr>\n",
       "      <th>161</th>\n",
       "      <td>Zambia</td>\n",
       "      <td>51.1</td>\n",
       "      <td>20.68321</td>\n",
       "    </tr>\n",
       "    <tr>\n",
       "      <th>162</th>\n",
       "      <td>Zimbabwe</td>\n",
       "      <td>47.3</td>\n",
       "      <td>22.02660</td>\n",
       "    </tr>\n",
       "  </tbody>\n",
       "</table>\n",
       "<p>163 rows × 3 columns</p>\n",
       "</div>"
      ],
      "text/plain": [
       "                Country  Life expectancy       BMI\n",
       "0           Afghanistan             52.8  20.62058\n",
       "1               Albania             76.8  26.44657\n",
       "2               Algeria             75.5  24.59620\n",
       "3               Andorra             84.6  27.63048\n",
       "4                Angola             56.7  22.25083\n",
       "..                  ...              ...       ...\n",
       "158             Vanuatu             63.4  26.78926\n",
       "159  West Bank and Gaza             74.1  26.57750\n",
       "160             Vietnam             74.1  20.91630\n",
       "161              Zambia             51.1  20.68321\n",
       "162            Zimbabwe             47.3  22.02660\n",
       "\n",
       "[163 rows x 3 columns]"
      ]
     },
     "execution_count": 2,
     "metadata": {},
     "output_type": "execute_result"
    }
   ],
   "source": [
    "bmi_life_data = pd.read_csv('bmi_and_life_expectancy.csv')\n",
    "bmi_life_data"
   ]
  },
  {
   "cell_type": "code",
   "execution_count": 3,
   "metadata": {},
   "outputs": [
    {
     "data": {
      "text/plain": [
       "(163, 3)"
      ]
     },
     "execution_count": 3,
     "metadata": {},
     "output_type": "execute_result"
    }
   ],
   "source": [
    "bmi_life_data.shape #163 rows and 3 cols"
   ]
  },
  {
   "cell_type": "markdown",
   "metadata": {},
   "source": [
    "## Build a linear regression model\n",
    "```\n",
    "model = LinearRegression()\n",
    "model.fit(2D_array_of_x_values, 2D_array_of_y_values)\n",
    "```"
   ]
  },
  {
   "cell_type": "code",
   "execution_count": 16,
   "metadata": {},
   "outputs": [
    {
     "data": {
      "text/plain": [
       "LinearRegression(copy_X=True, fit_intercept=True, n_jobs=None, normalize=False)"
      ]
     },
     "execution_count": 16,
     "metadata": {},
     "output_type": "execute_result"
    }
   ],
   "source": [
    "#Create a regression model using scikit-learn's LinearRegression\n",
    "bmi_life_model = LinearRegression()\n",
    "\n",
    "#Fit the model to the data.Fitting the model means finding the best line that fits the training data.\n",
    "bmi_life_model.fit(bmi_life_data[['BMI']], bmi_life_data[['Life expectancy']])\n",
    "\n",
    "#bmi_life_model.fit(bmi_life_data['BMI'], bmi_life_data['Life expectancy']) --------------> ERROR: Expected 2D array, got 1D array instead\n"
   ]
  },
  {
   "cell_type": "markdown",
   "metadata": {},
   "source": [
    "## Predict using the model\n",
    "```\n",
    "model.predict(2D_array_of_x_values)\n",
    "```"
   ]
  },
  {
   "cell_type": "code",
   "execution_count": 5,
   "metadata": {},
   "outputs": [],
   "source": [
    "laos_life_exp = bmi_life_model.predict([[21.07931],[25],[26]])\n",
    "# laos_life_exp = bmi_life_model.predict([21.07931]) ----- ERROR:Expected 2D array, got 1D array instead"
   ]
  },
  {
   "cell_type": "code",
   "execution_count": 6,
   "metadata": {},
   "outputs": [
    {
     "data": {
      "text/plain": [
       "array([[60.31564716],\n",
       "       [70.18982432],\n",
       "       [72.70830375]])"
      ]
     },
     "execution_count": 6,
     "metadata": {},
     "output_type": "execute_result"
    }
   ],
   "source": [
    "laos_life_exp"
   ]
  },
  {
   "cell_type": "code",
   "execution_count": 7,
   "metadata": {},
   "outputs": [
    {
     "data": {
      "text/plain": [
       "array([[2.51847944]])"
      ]
     },
     "execution_count": 7,
     "metadata": {},
     "output_type": "execute_result"
    }
   ],
   "source": [
    "#co-efficients of model w1,w2\n",
    "bmi_life_model.coef_"
   ]
  },
  {
   "cell_type": "code",
   "execution_count": 8,
   "metadata": {},
   "outputs": [
    {
     "data": {
      "text/plain": [
       "array([7.22783834])"
      ]
     },
     "execution_count": 8,
     "metadata": {},
     "output_type": "execute_result"
    }
   ],
   "source": [
    "#intercept of model\n",
    "bmi_life_model.intercept_"
   ]
  },
  {
   "cell_type": "markdown",
   "metadata": {},
   "source": [
    "# USING MY MODEL"
   ]
  },
  {
   "cell_type": "code",
   "execution_count": 9,
   "metadata": {},
   "outputs": [],
   "source": [
    "x = bmi_life_data['BMI']\n",
    "y = bmi_life_data['Life expectancy']"
   ]
  },
  {
   "cell_type": "code",
   "execution_count": 10,
   "metadata": {},
   "outputs": [],
   "source": [
    "import numpy as np\n",
    "import matplotlib.pyplot as plt"
   ]
  },
  {
   "cell_type": "code",
   "execution_count": 11,
   "metadata": {},
   "outputs": [],
   "source": [
    "def error_list(w_1,w_2):\n",
    "    #y_pred = w_1 * x + w_2\n",
    "    y_pred = []\n",
    "    for i in range(0,len(x)):\n",
    "        y_pred.append((w_1*x[i])+w_2)\n",
    "    # error = y - y_pred\n",
    "    error = []\n",
    "    for j in range(0,len(x)):\n",
    "        error.append(y[j] - y_pred[j])\n",
    "    return error"
   ]
  },
  {
   "cell_type": "code",
   "execution_count": 17,
   "metadata": {},
   "outputs": [],
   "source": [
    "from sklearn import metrics\n",
    "\n",
    "def fit_and_plot(x,y,iterate,learning_rate):\n",
    "    global w_1\n",
    "    global w_2\n",
    "    w_1 = 0\n",
    "    w_2 = 0\n",
    "    plt.plot(x,y,'o', color='black')\n",
    "    for i in range(0,iterate): # i am moving line 50times , you can change it\n",
    "        errors = error_list(w_1,w_2)  # as w1 and w2 are changing it means that line is also moving so we have to calculate new q-q' w.r.t to new line\n",
    "        # add (q-q') * x * learning rate in w1\n",
    "        w_1 += np.matmul(errors,x) * learning_rate  #t=x #matmul ---> multiply array element by element and then add it\n",
    "        \n",
    "        # add q-q' * learning_rate in w2\n",
    "        w_2 += sum(errors)* learning_rate\n",
    "        print(\"mean squared_error\", sum([i**2 for i in errors])/(2*len(errors))) \n",
    "    print(w_1,w_2)\n",
    "    y_pred = []\n",
    "    for i in range (0,len(y)):\n",
    "         y_pred.append((w_1 * x[i]) + w_2)\n",
    "    plt.plot(x,y_pred) \n",
    "    print('Root Mean Squared Error:', np.sqrt(metrics.mean_squared_error(y, y_pred)))\n",
    "    print('Mean Absolute Error:', metrics.mean_absolute_error(y, y_pred))  \n",
    "    print('Mean Squared Error:', metrics.mean_squared_error(y, y_pred)) \n",
    "\n",
    "\n",
    "    "
   ]
  },
  {
   "cell_type": "code",
   "execution_count": 18,
   "metadata": {},
   "outputs": [
    {
     "name": "stdout",
     "output_type": "stream",
     "text": [
      "mean squared_error 2466.830834662577\n",
      "mean squared_error 22.166781526625897\n",
      "mean squared_error 21.74960453027233\n",
      "mean squared_error 21.74952599748884\n",
      "mean squared_error 21.74951864069069\n",
      "mean squared_error 21.749511296264018\n",
      "mean squared_error 21.749503952065112\n",
      "mean squared_error 21.749496608091892\n",
      "mean squared_error 21.749489264344355\n",
      "mean squared_error 21.749481920822465\n",
      "mean squared_error 21.74947457752624\n",
      "mean squared_error 21.749467234455686\n",
      "mean squared_error 21.749459891610766\n",
      "mean squared_error 21.749452548991503\n",
      "mean squared_error 21.749445206597855\n",
      "mean squared_error 21.74943786442984\n",
      "mean squared_error 21.749430522487447\n",
      "mean squared_error 21.749423180770673\n",
      "mean squared_error 21.749415839279518\n",
      "mean squared_error 21.74940849801394\n",
      "mean squared_error 21.749401156973953\n",
      "mean squared_error 21.74939381615957\n",
      "mean squared_error 21.749386475570763\n",
      "mean squared_error 21.749379135207512\n",
      "mean squared_error 21.749371795069845\n",
      "mean squared_error 21.749364455157725\n",
      "mean squared_error 21.74935711547116\n",
      "mean squared_error 21.749349776010142\n",
      "mean squared_error 21.749342436774647\n",
      "mean squared_error 21.749335097764693\n",
      "mean squared_error 21.74932775898026\n",
      "mean squared_error 21.749320420421355\n",
      "mean squared_error 21.74931308208795\n",
      "mean squared_error 21.74930574398005\n",
      "mean squared_error 21.749298406097648\n",
      "mean squared_error 21.749291068440726\n",
      "mean squared_error 21.749283731009285\n",
      "mean squared_error 21.749276393803328\n",
      "mean squared_error 21.74926905682285\n",
      "mean squared_error 21.7492617200678\n",
      "mean squared_error 21.74925438353823\n",
      "mean squared_error 21.74924704723408\n",
      "mean squared_error 21.749239711155404\n",
      "mean squared_error 21.749232375302164\n",
      "mean squared_error 21.749225039674332\n",
      "mean squared_error 21.74921770427191\n",
      "mean squared_error 21.74921036909492\n",
      "mean squared_error 21.749203034143342\n",
      "mean squared_error 21.749195699417132\n",
      "mean squared_error 21.749188364916346\n",
      "mean squared_error 21.749181030640912\n",
      "mean squared_error 21.749173696590884\n",
      "mean squared_error 21.74916636276621\n",
      "mean squared_error 21.749159029166908\n",
      "mean squared_error 21.74915169579296\n",
      "mean squared_error 21.749144362644373\n",
      "mean squared_error 21.749137029721123\n",
      "mean squared_error 21.749129697023214\n",
      "mean squared_error 21.749122364550633\n",
      "mean squared_error 21.749115032303383\n",
      "mean squared_error 21.749107700281428\n",
      "mean squared_error 21.74910036848478\n",
      "mean squared_error 21.74909303691344\n",
      "mean squared_error 21.749085705567403\n",
      "mean squared_error 21.749078374446658\n",
      "mean squared_error 21.749071043551165\n",
      "mean squared_error 21.74906371288098\n",
      "mean squared_error 21.749056382436045\n",
      "mean squared_error 21.749049052216385\n",
      "mean squared_error 21.74904172222195\n",
      "mean squared_error 21.74903439245279\n",
      "mean squared_error 21.749027062908848\n",
      "mean squared_error 21.749019733590163\n",
      "mean squared_error 21.749012404496693\n",
      "mean squared_error 21.749005075628435\n",
      "mean squared_error 21.74899774698539\n",
      "mean squared_error 21.748990418567544\n",
      "mean squared_error 21.748983090374917\n",
      "mean squared_error 21.74897576240747\n",
      "mean squared_error 21.748968434665187\n",
      "mean squared_error 21.74896110714811\n",
      "mean squared_error 21.748953779856212\n",
      "mean squared_error 21.74894645278946\n",
      "mean squared_error 21.74893912594785\n",
      "mean squared_error 21.7489317993314\n",
      "mean squared_error 21.748924472940104\n",
      "mean squared_error 21.74891714677392\n",
      "mean squared_error 21.74890982083289\n",
      "mean squared_error 21.748902495116972\n",
      "mean squared_error 21.748895169626167\n",
      "mean squared_error 21.748887844360468\n",
      "mean squared_error 21.74888051931988\n",
      "mean squared_error 21.748873194504377\n",
      "mean squared_error 21.748865869913967\n",
      "mean squared_error 21.748858545548636\n",
      "mean squared_error 21.748851221408373\n",
      "mean squared_error 21.74884389749318\n",
      "mean squared_error 21.748836573803043\n",
      "mean squared_error 21.748829250338\n",
      "mean squared_error 21.74882192709795\n",
      "2.802355208149668 0.12290996912232621\n",
      "Root Mean Squared Error: 6.595273247422423\n",
      "Mean Absolute Error: 5.047528562703547\n",
      "Mean Squared Error: 43.497629208165904\n"
     ]
    },
    {
     "data": {
      "image/png": "[encoded data removed]",
      "text/plain": [
       "<Figure size 432x288 with 1 Axes>"
      ]
     },
     "metadata": {
      "needs_background": "light"
     },
     "output_type": "display_data"
    }
   ],
   "source": [
    "fit_and_plot(x,y,100,0.00001) #x = 1D array , y = 1D array"
   ]
  },
  {
   "cell_type": "code",
   "execution_count": 19,
   "metadata": {},
   "outputs": [],
   "source": [
    "def predict(x):\n",
    "    #y = w1*x + w2\n",
    "    y = []\n",
    "    for x_value in x:\n",
    "        y.append(w_1* x_value + w_2)\n",
    "    return y"
   ]
  },
  {
   "cell_type": "code",
   "execution_count": 20,
   "metadata": {},
   "outputs": [
    {
     "data": {
      "text/plain": [
       "[59.1946241318237, 70.18179017286404, 72.9841453810137]"
      ]
     },
     "execution_count": 20,
     "metadata": {},
     "output_type": "execute_result"
    }
   ],
   "source": [
    "predict([21.07931,25,26]) #x = 1D array"
   ]
  },
  {
   "cell_type": "markdown",
   "metadata": {},
   "source": [
    "### xxxxxxxxxxxxxxxxx  Match predictions of both models  xxxxxxxxxxxxxxxx"
   ]
  },
  {
   "cell_type": "code",
   "execution_count": null,
   "metadata": {},
   "outputs": [],
   "source": []
  }
 ],
 "metadata": {
  "kernelspec": {
   "display_name": "Python 3",
   "language": "python",
   "name": "python3"
  },
  "language_info": {
   "codemirror_mode": {
    "name": "ipython",
    "version": 3
   },
   "file_extension": ".py",
   "mimetype": "text/x-python",
   "name": "python",
   "nbconvert_exporter": "python",
   "pygments_lexer": "ipython3",
   "version": "3.7.6"
  }
 },
 "nbformat": 4,
 "nbformat_minor": 4
}
