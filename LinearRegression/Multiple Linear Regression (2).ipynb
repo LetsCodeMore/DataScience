{
 "cells": [
  {
   "cell_type": "markdown",
   "metadata": {},
   "source": [
    "What if we have higher dimension or 3 dimensions means 2 inputs and 1 output then our predictions will be a PLANE instead of line\n",
    "\n",
    "and equation is \n",
    "$$\n",
    " y  = w_1 * x_1 + w_2 * x_2  + w_3\n",
    "$$\n",
    "<img src=\"https://www.researchgate.net/publication/335642364/figure/fig1/AS:799942490742784@1567732560590/Multiple-linear-regression-describing-Mytilus-spp-recruitment-in-relation-to-upwelling.png\">\n"
   ]
  },
  {
   "cell_type": "code",
   "execution_count": 1,
   "metadata": {},
   "outputs": [],
   "source": [
    "%matplotlib inline\n",
    "import numpy as np\n",
    "import matplotlib.pyplot as plt\n",
    "import pandas as pd"
   ]
  },
  {
   "cell_type": "code",
   "execution_count": 2,
   "metadata": {},
   "outputs": [],
   "source": [
    "from sklearn.datasets import load_boston"
   ]
  },
  {
   "cell_type": "code",
   "execution_count": 3,
   "metadata": {},
   "outputs": [],
   "source": [
    "from sklearn import metrics"
   ]
  },
  {
   "cell_type": "code",
   "execution_count": 4,
   "metadata": {},
   "outputs": [
    {
     "data": {
      "text/plain": [
       "{'data': array([[6.3200e-03, 1.8000e+01, 2.3100e+00, ..., 1.5300e+01, 3.9690e+02,\n",
       "         4.9800e+00],\n",
       "        [2.7310e-02, 0.0000e+00, 7.0700e+00, ..., 1.7800e+01, 3.9690e+02,\n",
       "         9.1400e+00],\n",
       "        [2.7290e-02, 0.0000e+00, 7.0700e+00, ..., 1.7800e+01, 3.9283e+02,\n",
       "         4.0300e+00],\n",
       "        ...,\n",
       "        [6.0760e-02, 0.0000e+00, 1.1930e+01, ..., 2.1000e+01, 3.9690e+02,\n",
       "         5.6400e+00],\n",
       "        [1.0959e-01, 0.0000e+00, 1.1930e+01, ..., 2.1000e+01, 3.9345e+02,\n",
       "         6.4800e+00],\n",
       "        [4.7410e-02, 0.0000e+00, 1.1930e+01, ..., 2.1000e+01, 3.9690e+02,\n",
       "         7.8800e+00]]),\n",
       " 'target': array([24. , 21.6, 34.7, 33.4, 36.2, 28.7, 22.9, 27.1, 16.5, 18.9, 15. ,\n",
       "        18.9, 21.7, 20.4, 18.2, 19.9, 23.1, 17.5, 20.2, 18.2, 13.6, 19.6,\n",
       "        15.2, 14.5, 15.6, 13.9, 16.6, 14.8, 18.4, 21. , 12.7, 14.5, 13.2,\n",
       "        13.1, 13.5, 18.9, 20. , 21. , 24.7, 30.8, 34.9, 26.6, 25.3, 24.7,\n",
       "        21.2, 19.3, 20. , 16.6, 14.4, 19.4, 19.7, 20.5, 25. , 23.4, 18.9,\n",
       "        35.4, 24.7, 31.6, 23.3, 19.6, 18.7, 16. , 22.2, 25. , 33. , 23.5,\n",
       "        19.4, 22. , 17.4, 20.9, 24.2, 21.7, 22.8, 23.4, 24.1, 21.4, 20. ,\n",
       "        20.8, 21.2, 20.3, 28. , 23.9, 24.8, 22.9, 23.9, 26.6, 22.5, 22.2,\n",
       "        23.6, 28.7, 22.6, 22. , 22.9, 25. , 20.6, 28.4, 21.4, 38.7, 43.8,\n",
       "        33.2, 27.5, 26.5, 18.6, 19.3, 20.1, 19.5, 19.5, 20.4, 19.8, 19.4,\n",
       "        21.7, 22.8, 18.8, 18.7, 18.5, 18.3, 21.2, 19.2, 20.4, 19.3, 22. ,\n",
       "        20.3, 20.5, 17.3, 18.8, 21.4, 15.7, 16.2, 18. , 14.3, 19.2, 19.6,\n",
       "        23. , 18.4, 15.6, 18.1, 17.4, 17.1, 13.3, 17.8, 14. , 14.4, 13.4,\n",
       "        15.6, 11.8, 13.8, 15.6, 14.6, 17.8, 15.4, 21.5, 19.6, 15.3, 19.4,\n",
       "        17. , 15.6, 13.1, 41.3, 24.3, 23.3, 27. , 50. , 50. , 50. , 22.7,\n",
       "        25. , 50. , 23.8, 23.8, 22.3, 17.4, 19.1, 23.1, 23.6, 22.6, 29.4,\n",
       "        23.2, 24.6, 29.9, 37.2, 39.8, 36.2, 37.9, 32.5, 26.4, 29.6, 50. ,\n",
       "        32. , 29.8, 34.9, 37. , 30.5, 36.4, 31.1, 29.1, 50. , 33.3, 30.3,\n",
       "        34.6, 34.9, 32.9, 24.1, 42.3, 48.5, 50. , 22.6, 24.4, 22.5, 24.4,\n",
       "        20. , 21.7, 19.3, 22.4, 28.1, 23.7, 25. , 23.3, 28.7, 21.5, 23. ,\n",
       "        26.7, 21.7, 27.5, 30.1, 44.8, 50. , 37.6, 31.6, 46.7, 31.5, 24.3,\n",
       "        31.7, 41.7, 48.3, 29. , 24. , 25.1, 31.5, 23.7, 23.3, 22. , 20.1,\n",
       "        22.2, 23.7, 17.6, 18.5, 24.3, 20.5, 24.5, 26.2, 24.4, 24.8, 29.6,\n",
       "        42.8, 21.9, 20.9, 44. , 50. , 36. , 30.1, 33.8, 43.1, 48.8, 31. ,\n",
       "        36.5, 22.8, 30.7, 50. , 43.5, 20.7, 21.1, 25.2, 24.4, 35.2, 32.4,\n",
       "        32. , 33.2, 33.1, 29.1, 35.1, 45.4, 35.4, 46. , 50. , 32.2, 22. ,\n",
       "        20.1, 23.2, 22.3, 24.8, 28.5, 37.3, 27.9, 23.9, 21.7, 28.6, 27.1,\n",
       "        20.3, 22.5, 29. , 24.8, 22. , 26.4, 33.1, 36.1, 28.4, 33.4, 28.2,\n",
       "        22.8, 20.3, 16.1, 22.1, 19.4, 21.6, 23.8, 16.2, 17.8, 19.8, 23.1,\n",
       "        21. , 23.8, 23.1, 20.4, 18.5, 25. , 24.6, 23. , 22.2, 19.3, 22.6,\n",
       "        19.8, 17.1, 19.4, 22.2, 20.7, 21.1, 19.5, 18.5, 20.6, 19. , 18.7,\n",
       "        32.7, 16.5, 23.9, 31.2, 17.5, 17.2, 23.1, 24.5, 26.6, 22.9, 24.1,\n",
       "        18.6, 30.1, 18.2, 20.6, 17.8, 21.7, 22.7, 22.6, 25. , 19.9, 20.8,\n",
       "        16.8, 21.9, 27.5, 21.9, 23.1, 50. , 50. , 50. , 50. , 50. , 13.8,\n",
       "        13.8, 15. , 13.9, 13.3, 13.1, 10.2, 10.4, 10.9, 11.3, 12.3,  8.8,\n",
       "         7.2, 10.5,  7.4, 10.2, 11.5, 15.1, 23.2,  9.7, 13.8, 12.7, 13.1,\n",
       "        12.5,  8.5,  5. ,  6.3,  5.6,  7.2, 12.1,  8.3,  8.5,  5. , 11.9,\n",
       "        27.9, 17.2, 27.5, 15. , 17.2, 17.9, 16.3,  7. ,  7.2,  7.5, 10.4,\n",
       "         8.8,  8.4, 16.7, 14.2, 20.8, 13.4, 11.7,  8.3, 10.2, 10.9, 11. ,\n",
       "         9.5, 14.5, 14.1, 16.1, 14.3, 11.7, 13.4,  9.6,  8.7,  8.4, 12.8,\n",
       "        10.5, 17.1, 18.4, 15.4, 10.8, 11.8, 14.9, 12.6, 14.1, 13. , 13.4,\n",
       "        15.2, 16.1, 17.8, 14.9, 14.1, 12.7, 13.5, 14.9, 20. , 16.4, 17.7,\n",
       "        19.5, 20.2, 21.4, 19.9, 19. , 19.1, 19.1, 20.1, 19.9, 19.6, 23.2,\n",
       "        29.8, 13.8, 13.3, 16.7, 12. , 14.6, 21.4, 23. , 23.7, 25. , 21.8,\n",
       "        20.6, 21.2, 19.1, 20.6, 15.2,  7. ,  8.1, 13.6, 20.1, 21.8, 24.5,\n",
       "        23.1, 19.7, 18.3, 21.2, 17.5, 16.8, 22.4, 20.6, 23.9, 22. , 11.9]),\n",
       " 'feature_names': array(['CRIM', 'ZN', 'INDUS', 'CHAS', 'NOX', 'RM', 'AGE', 'DIS', 'RAD',\n",
       "        'TAX', 'PTRATIO', 'B', 'LSTAT'], dtype='<U7'),\n",
       " 'DESCR': \".. _boston_dataset:\\n\\nBoston house prices dataset\\n---------------------------\\n\\n**Data Set Characteristics:**  \\n\\n    :Number of Instances: 506 \\n\\n    :Number of Attributes: 13 numeric/categorical predictive. Median Value (attribute 14) is usually the target.\\n\\n    :Attribute Information (in order):\\n        - CRIM     per capita crime rate by town\\n        - ZN       proportion of residential land zoned for lots over 25,000 sq.ft.\\n        - INDUS    proportion of non-retail business acres per town\\n        - CHAS     Charles River dummy variable (= 1 if tract bounds river; 0 otherwise)\\n        - NOX      nitric oxides concentration (parts per 10 million)\\n        - RM       average number of rooms per dwelling\\n        - AGE      proportion of owner-occupied units built prior to 1940\\n        - DIS      weighted distances to five Boston employment centres\\n        - RAD      index of accessibility to radial highways\\n        - TAX      full-value property-tax rate per $10,000\\n        - PTRATIO  pupil-teacher ratio by town\\n        - B        1000(Bk - 0.63)^2 where Bk is the proportion of blacks by town\\n        - LSTAT    % lower status of the population\\n        - MEDV     Median value of owner-occupied homes in $1000's\\n\\n    :Missing Attribute Values: None\\n\\n    :Creator: Harrison, D. and Rubinfeld, D.L.\\n\\nThis is a copy of UCI ML housing dataset.\\nhttps://archive.ics.uci.edu/ml/machine-learning-databases/housing/\\n\\n\\nThis dataset was taken from the StatLib library which is maintained at Carnegie Mellon University.\\n\\nThe Boston house-price data of Harrison, D. and Rubinfeld, D.L. 'Hedonic\\nprices and the demand for clean air', J. Environ. Economics & Management,\\nvol.5, 81-102, 1978.   Used in Belsley, Kuh & Welsch, 'Regression diagnostics\\n...', Wiley, 1980.   N.B. Various transformations are used in the table on\\npages 244-261 of the latter.\\n\\nThe Boston house-price data has been used in many machine learning papers that address regression\\nproblems.   \\n     \\n.. topic:: References\\n\\n   - Belsley, Kuh & Welsch, 'Regression diagnostics: Identifying Influential Data and Sources of Collinearity', Wiley, 1980. 244-261.\\n   - Quinlan,R. (1993). Combining Instance-Based and Model-Based Learning. In Proceedings on the Tenth International Conference of Machine Learning, 236-243, University of Massachusetts, Amherst. Morgan Kaufmann.\\n\",\n",
       " 'filename': 'c:\\\\users\\\\pc\\\\appdata\\\\local\\\\programs\\\\python\\\\python37\\\\lib\\\\site-packages\\\\sklearn\\\\datasets\\\\data\\\\boston_house_prices.csv'}"
      ]
     },
     "execution_count": 4,
     "metadata": {},
     "output_type": "execute_result"
    }
   ],
   "source": [
    "# Load the data from the boston house-prices dataset \n",
    "boston_data = load_boston()\n",
    "boston_data"
   ]
  },
  {
   "cell_type": "code",
   "execution_count": 5,
   "metadata": {},
   "outputs": [],
   "source": [
    "x = boston_data['data']\n",
    "y = boston_data['target']\n",
    "yy = y[0:13]"
   ]
  },
  {
   "cell_type": "code",
   "execution_count": 6,
   "metadata": {},
   "outputs": [],
   "source": [
    "df = pd.DataFrame()"
   ]
  },
  {
   "cell_type": "code",
   "execution_count": 7,
   "metadata": {},
   "outputs": [],
   "source": [
    "for i in range(0,len(x)):\n",
    "    name = 'x{}'.format(i)\n",
    "    df[name] = x[i]"
   ]
  },
  {
   "cell_type": "code",
   "execution_count": 8,
   "metadata": {},
   "outputs": [
    {
     "data": {
      "text/plain": [
       "(13, 506)"
      ]
     },
     "execution_count": 8,
     "metadata": {},
     "output_type": "execute_result"
    }
   ],
   "source": [
    "df.shape  #our data has 13 rows and 506 columns"
   ]
  },
  {
   "cell_type": "code",
   "execution_count": 9,
   "metadata": {},
   "outputs": [
    {
     "data": {
      "text/html": [
       "<div>\n",
       "<style scoped>\n",
       "    .dataframe tbody tr th:only-of-type {\n",
       "        vertical-align: middle;\n",
       "    }\n",
       "\n",
       "    .dataframe tbody tr th {\n",
       "        vertical-align: top;\n",
       "    }\n",
       "\n",
       "    .dataframe thead th {\n",
       "        text-align: right;\n",
       "    }\n",
       "</style>\n",
       "<table border=\"1\" class=\"dataframe\">\n",
       "  <thead>\n",
       "    <tr style=\"text-align: right;\">\n",
       "      <th></th>\n",
       "      <th>x0</th>\n",
       "      <th>x1</th>\n",
       "      <th>x2</th>\n",
       "      <th>x3</th>\n",
       "      <th>x4</th>\n",
       "      <th>x5</th>\n",
       "      <th>x6</th>\n",
       "      <th>x7</th>\n",
       "      <th>x8</th>\n",
       "      <th>x9</th>\n",
       "      <th>...</th>\n",
       "      <th>x496</th>\n",
       "      <th>x497</th>\n",
       "      <th>x498</th>\n",
       "      <th>x499</th>\n",
       "      <th>x500</th>\n",
       "      <th>x501</th>\n",
       "      <th>x502</th>\n",
       "      <th>x503</th>\n",
       "      <th>x504</th>\n",
       "      <th>x505</th>\n",
       "    </tr>\n",
       "  </thead>\n",
       "  <tbody>\n",
       "    <tr>\n",
       "      <th>0</th>\n",
       "      <td>0.00632</td>\n",
       "      <td>0.02731</td>\n",
       "      <td>0.02729</td>\n",
       "      <td>0.03237</td>\n",
       "      <td>0.06905</td>\n",
       "      <td>0.02985</td>\n",
       "      <td>0.08829</td>\n",
       "      <td>0.14455</td>\n",
       "      <td>0.21124</td>\n",
       "      <td>0.17004</td>\n",
       "      <td>...</td>\n",
       "      <td>0.2896</td>\n",
       "      <td>0.26838</td>\n",
       "      <td>0.23912</td>\n",
       "      <td>0.17783</td>\n",
       "      <td>0.22438</td>\n",
       "      <td>0.06263</td>\n",
       "      <td>0.04527</td>\n",
       "      <td>0.06076</td>\n",
       "      <td>0.10959</td>\n",
       "      <td>0.04741</td>\n",
       "    </tr>\n",
       "    <tr>\n",
       "      <th>1</th>\n",
       "      <td>18.00000</td>\n",
       "      <td>0.00000</td>\n",
       "      <td>0.00000</td>\n",
       "      <td>0.00000</td>\n",
       "      <td>0.00000</td>\n",
       "      <td>0.00000</td>\n",
       "      <td>12.50000</td>\n",
       "      <td>12.50000</td>\n",
       "      <td>12.50000</td>\n",
       "      <td>12.50000</td>\n",
       "      <td>...</td>\n",
       "      <td>0.0000</td>\n",
       "      <td>0.00000</td>\n",
       "      <td>0.00000</td>\n",
       "      <td>0.00000</td>\n",
       "      <td>0.00000</td>\n",
       "      <td>0.00000</td>\n",
       "      <td>0.00000</td>\n",
       "      <td>0.00000</td>\n",
       "      <td>0.00000</td>\n",
       "      <td>0.00000</td>\n",
       "    </tr>\n",
       "    <tr>\n",
       "      <th>2</th>\n",
       "      <td>2.31000</td>\n",
       "      <td>7.07000</td>\n",
       "      <td>7.07000</td>\n",
       "      <td>2.18000</td>\n",
       "      <td>2.18000</td>\n",
       "      <td>2.18000</td>\n",
       "      <td>7.87000</td>\n",
       "      <td>7.87000</td>\n",
       "      <td>7.87000</td>\n",
       "      <td>7.87000</td>\n",
       "      <td>...</td>\n",
       "      <td>9.6900</td>\n",
       "      <td>9.69000</td>\n",
       "      <td>9.69000</td>\n",
       "      <td>9.69000</td>\n",
       "      <td>9.69000</td>\n",
       "      <td>11.93000</td>\n",
       "      <td>11.93000</td>\n",
       "      <td>11.93000</td>\n",
       "      <td>11.93000</td>\n",
       "      <td>11.93000</td>\n",
       "    </tr>\n",
       "    <tr>\n",
       "      <th>3</th>\n",
       "      <td>0.00000</td>\n",
       "      <td>0.00000</td>\n",
       "      <td>0.00000</td>\n",
       "      <td>0.00000</td>\n",
       "      <td>0.00000</td>\n",
       "      <td>0.00000</td>\n",
       "      <td>0.00000</td>\n",
       "      <td>0.00000</td>\n",
       "      <td>0.00000</td>\n",
       "      <td>0.00000</td>\n",
       "      <td>...</td>\n",
       "      <td>0.0000</td>\n",
       "      <td>0.00000</td>\n",
       "      <td>0.00000</td>\n",
       "      <td>0.00000</td>\n",
       "      <td>0.00000</td>\n",
       "      <td>0.00000</td>\n",
       "      <td>0.00000</td>\n",
       "      <td>0.00000</td>\n",
       "      <td>0.00000</td>\n",
       "      <td>0.00000</td>\n",
       "    </tr>\n",
       "    <tr>\n",
       "      <th>4</th>\n",
       "      <td>0.53800</td>\n",
       "      <td>0.46900</td>\n",
       "      <td>0.46900</td>\n",
       "      <td>0.45800</td>\n",
       "      <td>0.45800</td>\n",
       "      <td>0.45800</td>\n",
       "      <td>0.52400</td>\n",
       "      <td>0.52400</td>\n",
       "      <td>0.52400</td>\n",
       "      <td>0.52400</td>\n",
       "      <td>...</td>\n",
       "      <td>0.5850</td>\n",
       "      <td>0.58500</td>\n",
       "      <td>0.58500</td>\n",
       "      <td>0.58500</td>\n",
       "      <td>0.58500</td>\n",
       "      <td>0.57300</td>\n",
       "      <td>0.57300</td>\n",
       "      <td>0.57300</td>\n",
       "      <td>0.57300</td>\n",
       "      <td>0.57300</td>\n",
       "    </tr>\n",
       "    <tr>\n",
       "      <th>5</th>\n",
       "      <td>6.57500</td>\n",
       "      <td>6.42100</td>\n",
       "      <td>7.18500</td>\n",
       "      <td>6.99800</td>\n",
       "      <td>7.14700</td>\n",
       "      <td>6.43000</td>\n",
       "      <td>6.01200</td>\n",
       "      <td>6.17200</td>\n",
       "      <td>5.63100</td>\n",
       "      <td>6.00400</td>\n",
       "      <td>...</td>\n",
       "      <td>5.3900</td>\n",
       "      <td>5.79400</td>\n",
       "      <td>6.01900</td>\n",
       "      <td>5.56900</td>\n",
       "      <td>6.02700</td>\n",
       "      <td>6.59300</td>\n",
       "      <td>6.12000</td>\n",
       "      <td>6.97600</td>\n",
       "      <td>6.79400</td>\n",
       "      <td>6.03000</td>\n",
       "    </tr>\n",
       "    <tr>\n",
       "      <th>6</th>\n",
       "      <td>65.20000</td>\n",
       "      <td>78.90000</td>\n",
       "      <td>61.10000</td>\n",
       "      <td>45.80000</td>\n",
       "      <td>54.20000</td>\n",
       "      <td>58.70000</td>\n",
       "      <td>66.60000</td>\n",
       "      <td>96.10000</td>\n",
       "      <td>100.00000</td>\n",
       "      <td>85.90000</td>\n",
       "      <td>...</td>\n",
       "      <td>72.9000</td>\n",
       "      <td>70.60000</td>\n",
       "      <td>65.30000</td>\n",
       "      <td>73.50000</td>\n",
       "      <td>79.70000</td>\n",
       "      <td>69.10000</td>\n",
       "      <td>76.70000</td>\n",
       "      <td>91.00000</td>\n",
       "      <td>89.30000</td>\n",
       "      <td>80.80000</td>\n",
       "    </tr>\n",
       "    <tr>\n",
       "      <th>7</th>\n",
       "      <td>4.09000</td>\n",
       "      <td>4.96710</td>\n",
       "      <td>4.96710</td>\n",
       "      <td>6.06220</td>\n",
       "      <td>6.06220</td>\n",
       "      <td>6.06220</td>\n",
       "      <td>5.56050</td>\n",
       "      <td>5.95050</td>\n",
       "      <td>6.08210</td>\n",
       "      <td>6.59210</td>\n",
       "      <td>...</td>\n",
       "      <td>2.7986</td>\n",
       "      <td>2.89270</td>\n",
       "      <td>2.40910</td>\n",
       "      <td>2.39990</td>\n",
       "      <td>2.49820</td>\n",
       "      <td>2.47860</td>\n",
       "      <td>2.28750</td>\n",
       "      <td>2.16750</td>\n",
       "      <td>2.38890</td>\n",
       "      <td>2.50500</td>\n",
       "    </tr>\n",
       "    <tr>\n",
       "      <th>8</th>\n",
       "      <td>1.00000</td>\n",
       "      <td>2.00000</td>\n",
       "      <td>2.00000</td>\n",
       "      <td>3.00000</td>\n",
       "      <td>3.00000</td>\n",
       "      <td>3.00000</td>\n",
       "      <td>5.00000</td>\n",
       "      <td>5.00000</td>\n",
       "      <td>5.00000</td>\n",
       "      <td>5.00000</td>\n",
       "      <td>...</td>\n",
       "      <td>6.0000</td>\n",
       "      <td>6.00000</td>\n",
       "      <td>6.00000</td>\n",
       "      <td>6.00000</td>\n",
       "      <td>6.00000</td>\n",
       "      <td>1.00000</td>\n",
       "      <td>1.00000</td>\n",
       "      <td>1.00000</td>\n",
       "      <td>1.00000</td>\n",
       "      <td>1.00000</td>\n",
       "    </tr>\n",
       "    <tr>\n",
       "      <th>9</th>\n",
       "      <td>296.00000</td>\n",
       "      <td>242.00000</td>\n",
       "      <td>242.00000</td>\n",
       "      <td>222.00000</td>\n",
       "      <td>222.00000</td>\n",
       "      <td>222.00000</td>\n",
       "      <td>311.00000</td>\n",
       "      <td>311.00000</td>\n",
       "      <td>311.00000</td>\n",
       "      <td>311.00000</td>\n",
       "      <td>...</td>\n",
       "      <td>391.0000</td>\n",
       "      <td>391.00000</td>\n",
       "      <td>391.00000</td>\n",
       "      <td>391.00000</td>\n",
       "      <td>391.00000</td>\n",
       "      <td>273.00000</td>\n",
       "      <td>273.00000</td>\n",
       "      <td>273.00000</td>\n",
       "      <td>273.00000</td>\n",
       "      <td>273.00000</td>\n",
       "    </tr>\n",
       "    <tr>\n",
       "      <th>10</th>\n",
       "      <td>15.30000</td>\n",
       "      <td>17.80000</td>\n",
       "      <td>17.80000</td>\n",
       "      <td>18.70000</td>\n",
       "      <td>18.70000</td>\n",
       "      <td>18.70000</td>\n",
       "      <td>15.20000</td>\n",
       "      <td>15.20000</td>\n",
       "      <td>15.20000</td>\n",
       "      <td>15.20000</td>\n",
       "      <td>...</td>\n",
       "      <td>19.2000</td>\n",
       "      <td>19.20000</td>\n",
       "      <td>19.20000</td>\n",
       "      <td>19.20000</td>\n",
       "      <td>19.20000</td>\n",
       "      <td>21.00000</td>\n",
       "      <td>21.00000</td>\n",
       "      <td>21.00000</td>\n",
       "      <td>21.00000</td>\n",
       "      <td>21.00000</td>\n",
       "    </tr>\n",
       "    <tr>\n",
       "      <th>11</th>\n",
       "      <td>396.90000</td>\n",
       "      <td>396.90000</td>\n",
       "      <td>392.83000</td>\n",
       "      <td>394.63000</td>\n",
       "      <td>396.90000</td>\n",
       "      <td>394.12000</td>\n",
       "      <td>395.60000</td>\n",
       "      <td>396.90000</td>\n",
       "      <td>386.63000</td>\n",
       "      <td>386.71000</td>\n",
       "      <td>...</td>\n",
       "      <td>396.9000</td>\n",
       "      <td>396.90000</td>\n",
       "      <td>396.90000</td>\n",
       "      <td>395.77000</td>\n",
       "      <td>396.90000</td>\n",
       "      <td>391.99000</td>\n",
       "      <td>396.90000</td>\n",
       "      <td>396.90000</td>\n",
       "      <td>393.45000</td>\n",
       "      <td>396.90000</td>\n",
       "    </tr>\n",
       "    <tr>\n",
       "      <th>12</th>\n",
       "      <td>4.98000</td>\n",
       "      <td>9.14000</td>\n",
       "      <td>4.03000</td>\n",
       "      <td>2.94000</td>\n",
       "      <td>5.33000</td>\n",
       "      <td>5.21000</td>\n",
       "      <td>12.43000</td>\n",
       "      <td>19.15000</td>\n",
       "      <td>29.93000</td>\n",
       "      <td>17.10000</td>\n",
       "      <td>...</td>\n",
       "      <td>21.1400</td>\n",
       "      <td>14.10000</td>\n",
       "      <td>12.92000</td>\n",
       "      <td>15.10000</td>\n",
       "      <td>14.33000</td>\n",
       "      <td>9.67000</td>\n",
       "      <td>9.08000</td>\n",
       "      <td>5.64000</td>\n",
       "      <td>6.48000</td>\n",
       "      <td>7.88000</td>\n",
       "    </tr>\n",
       "  </tbody>\n",
       "</table>\n",
       "<p>13 rows × 506 columns</p>\n",
       "</div>"
      ],
      "text/plain": [
       "           x0         x1         x2         x3         x4         x5  \\\n",
       "0     0.00632    0.02731    0.02729    0.03237    0.06905    0.02985   \n",
       "1    18.00000    0.00000    0.00000    0.00000    0.00000    0.00000   \n",
       "2     2.31000    7.07000    7.07000    2.18000    2.18000    2.18000   \n",
       "3     0.00000    0.00000    0.00000    0.00000    0.00000    0.00000   \n",
       "4     0.53800    0.46900    0.46900    0.45800    0.45800    0.45800   \n",
       "5     6.57500    6.42100    7.18500    6.99800    7.14700    6.43000   \n",
       "6    65.20000   78.90000   61.10000   45.80000   54.20000   58.70000   \n",
       "7     4.09000    4.96710    4.96710    6.06220    6.06220    6.06220   \n",
       "8     1.00000    2.00000    2.00000    3.00000    3.00000    3.00000   \n",
       "9   296.00000  242.00000  242.00000  222.00000  222.00000  222.00000   \n",
       "10   15.30000   17.80000   17.80000   18.70000   18.70000   18.70000   \n",
       "11  396.90000  396.90000  392.83000  394.63000  396.90000  394.12000   \n",
       "12    4.98000    9.14000    4.03000    2.94000    5.33000    5.21000   \n",
       "\n",
       "           x6         x7         x8         x9  ...      x496       x497  \\\n",
       "0     0.08829    0.14455    0.21124    0.17004  ...    0.2896    0.26838   \n",
       "1    12.50000   12.50000   12.50000   12.50000  ...    0.0000    0.00000   \n",
       "2     7.87000    7.87000    7.87000    7.87000  ...    9.6900    9.69000   \n",
       "3     0.00000    0.00000    0.00000    0.00000  ...    0.0000    0.00000   \n",
       "4     0.52400    0.52400    0.52400    0.52400  ...    0.5850    0.58500   \n",
       "5     6.01200    6.17200    5.63100    6.00400  ...    5.3900    5.79400   \n",
       "6    66.60000   96.10000  100.00000   85.90000  ...   72.9000   70.60000   \n",
       "7     5.56050    5.95050    6.08210    6.59210  ...    2.7986    2.89270   \n",
       "8     5.00000    5.00000    5.00000    5.00000  ...    6.0000    6.00000   \n",
       "9   311.00000  311.00000  311.00000  311.00000  ...  391.0000  391.00000   \n",
       "10   15.20000   15.20000   15.20000   15.20000  ...   19.2000   19.20000   \n",
       "11  395.60000  396.90000  386.63000  386.71000  ...  396.9000  396.90000   \n",
       "12   12.43000   19.15000   29.93000   17.10000  ...   21.1400   14.10000   \n",
       "\n",
       "         x498       x499       x500       x501       x502       x503  \\\n",
       "0     0.23912    0.17783    0.22438    0.06263    0.04527    0.06076   \n",
       "1     0.00000    0.00000    0.00000    0.00000    0.00000    0.00000   \n",
       "2     9.69000    9.69000    9.69000   11.93000   11.93000   11.93000   \n",
       "3     0.00000    0.00000    0.00000    0.00000    0.00000    0.00000   \n",
       "4     0.58500    0.58500    0.58500    0.57300    0.57300    0.57300   \n",
       "5     6.01900    5.56900    6.02700    6.59300    6.12000    6.97600   \n",
       "6    65.30000   73.50000   79.70000   69.10000   76.70000   91.00000   \n",
       "7     2.40910    2.39990    2.49820    2.47860    2.28750    2.16750   \n",
       "8     6.00000    6.00000    6.00000    1.00000    1.00000    1.00000   \n",
       "9   391.00000  391.00000  391.00000  273.00000  273.00000  273.00000   \n",
       "10   19.20000   19.20000   19.20000   21.00000   21.00000   21.00000   \n",
       "11  396.90000  395.77000  396.90000  391.99000  396.90000  396.90000   \n",
       "12   12.92000   15.10000   14.33000    9.67000    9.08000    5.64000   \n",
       "\n",
       "         x504       x505  \n",
       "0     0.10959    0.04741  \n",
       "1     0.00000    0.00000  \n",
       "2    11.93000   11.93000  \n",
       "3     0.00000    0.00000  \n",
       "4     0.57300    0.57300  \n",
       "5     6.79400    6.03000  \n",
       "6    89.30000   80.80000  \n",
       "7     2.38890    2.50500  \n",
       "8     1.00000    1.00000  \n",
       "9   273.00000  273.00000  \n",
       "10   21.00000   21.00000  \n",
       "11  393.45000  396.90000  \n",
       "12    6.48000    7.88000  \n",
       "\n",
       "[13 rows x 506 columns]"
      ]
     },
     "execution_count": 9,
     "metadata": {},
     "output_type": "execute_result"
    }
   ],
   "source": [
    "df"
   ]
  },
  {
   "cell_type": "markdown",
   "metadata": {},
   "source": [
    "## Using my model"
   ]
  },
  {
   "cell_type": "code",
   "execution_count": 10,
   "metadata": {},
   "outputs": [],
   "source": [
    "def error_list(w_1,w_2,w_3):\n",
    "    #y_pred = w_1 * x_1 + w_2 * x_2 + w_3\n",
    "    y_pred = []\n",
    "    for i in range(0,len(df['x1'])):\n",
    "        y_pred.append( (df['x1'][i] * w_1) + (df['x2'][i] * w_2) + w_3)\n",
    "    error = []\n",
    "    for j in range(0,len(df['x1'])):\n",
    "        error.append(yy[j]- y_pred[j])\n",
    "    return error"
   ]
  },
  {
   "cell_type": "code",
   "execution_count": 11,
   "metadata": {},
   "outputs": [],
   "source": [
    "def update(iterate):\n",
    "    w_1 = 0\n",
    "    w_2 = 0\n",
    "    w_3 = 0\n",
    "#     plt.plot(x,y,'o', color='black')\n",
    "    for i in range(0,iterate): # i am moving line 50times , you can change it\n",
    "        errors = error_list(w_1,w_2,w_3)  # as w1 and w2 are changing it means that line is also moving so we have to calculate new q-q' w.r.t to new line\n",
    "#         print(errors)\n",
    "        # add (q-q') * x * learning rate in w1\n",
    "        w_1 += np.matmul(errors,df['x1']) * 0.000001   #t=x #matmul ---> multiply array element by element and then add it\n",
    "        # add q-q' * learning_rate in w2\n",
    "        w_2 += np.matmul(errors,df['x2']) * 0.000001\n",
    "        w_3 += sum(errors)* 0.000001\n",
    "        print(\"sum of squared_error\", sum([i**2 for i in errors])/(2*len(errors)))\n",
    "    print(w_1,w_2,w_3)\n"
   ]
  },
  {
   "cell_type": "code",
   "execution_count": 12,
   "metadata": {},
   "outputs": [],
   "source": [
    "# update(1000000) #dont try 10 lacs iterations it was very slow :p"
   ]
  },
  {
   "cell_type": "code",
   "execution_count": 13,
   "metadata": {},
   "outputs": [
    {
     "data": {
      "text/html": [
       "<img src=\"MLR.PNG\">\n"
      ],
      "text/plain": [
       "<IPython.core.display.HTML object>"
      ]
     },
     "metadata": {},
     "output_type": "display_data"
    }
   ],
   "source": [
    "%%HTML\n",
    "<img src=\"MLR.PNG\">"
   ]
  },
  {
   "cell_type": "code",
   "execution_count": 14,
   "metadata": {},
   "outputs": [
    {
     "data": {
      "text/html": [
       "<div>\n",
       "<style scoped>\n",
       "    .dataframe tbody tr th:only-of-type {\n",
       "        vertical-align: middle;\n",
       "    }\n",
       "\n",
       "    .dataframe tbody tr th {\n",
       "        vertical-align: top;\n",
       "    }\n",
       "\n",
       "    .dataframe thead th {\n",
       "        text-align: right;\n",
       "    }\n",
       "</style>\n",
       "<table border=\"1\" class=\"dataframe\">\n",
       "  <thead>\n",
       "    <tr style=\"text-align: right;\">\n",
       "      <th></th>\n",
       "      <th>Actual</th>\n",
       "      <th>Predicted</th>\n",
       "    </tr>\n",
       "  </thead>\n",
       "  <tbody>\n",
       "    <tr>\n",
       "      <th>0</th>\n",
       "      <td>24.0</td>\n",
       "      <td>26.057654</td>\n",
       "    </tr>\n",
       "    <tr>\n",
       "      <th>1</th>\n",
       "      <td>21.6</td>\n",
       "      <td>26.058219</td>\n",
       "    </tr>\n",
       "    <tr>\n",
       "      <th>2</th>\n",
       "      <td>34.7</td>\n",
       "      <td>25.912433</td>\n",
       "    </tr>\n",
       "    <tr>\n",
       "      <th>3</th>\n",
       "      <td>33.4</td>\n",
       "      <td>26.058219</td>\n",
       "    </tr>\n",
       "    <tr>\n",
       "      <th>4</th>\n",
       "      <td>36.2</td>\n",
       "      <td>26.048548</td>\n",
       "    </tr>\n",
       "    <tr>\n",
       "      <th>5</th>\n",
       "      <td>28.7</td>\n",
       "      <td>26.024484</td>\n",
       "    </tr>\n",
       "    <tr>\n",
       "      <th>6</th>\n",
       "      <td>22.9</td>\n",
       "      <td>22.132459</td>\n",
       "    </tr>\n",
       "    <tr>\n",
       "      <th>7</th>\n",
       "      <td>27.1</td>\n",
       "      <td>25.955796</td>\n",
       "    </tr>\n",
       "    <tr>\n",
       "      <th>8</th>\n",
       "      <td>16.5</td>\n",
       "      <td>26.016979</td>\n",
       "    </tr>\n",
       "    <tr>\n",
       "      <th>9</th>\n",
       "      <td>18.9</td>\n",
       "      <td>21.068095</td>\n",
       "    </tr>\n",
       "    <tr>\n",
       "      <th>10</th>\n",
       "      <td>15.0</td>\n",
       "      <td>25.691177</td>\n",
       "    </tr>\n",
       "    <tr>\n",
       "      <th>11</th>\n",
       "      <td>18.9</td>\n",
       "      <td>17.348375</td>\n",
       "    </tr>\n",
       "    <tr>\n",
       "      <th>12</th>\n",
       "      <td>21.7</td>\n",
       "      <td>25.209809</td>\n",
       "    </tr>\n",
       "  </tbody>\n",
       "</table>\n",
       "</div>"
      ],
      "text/plain": [
       "    Actual  Predicted\n",
       "0     24.0  26.057654\n",
       "1     21.6  26.058219\n",
       "2     34.7  25.912433\n",
       "3     33.4  26.058219\n",
       "4     36.2  26.048548\n",
       "5     28.7  26.024484\n",
       "6     22.9  22.132459\n",
       "7     27.1  25.955796\n",
       "8     16.5  26.016979\n",
       "9     18.9  21.068095\n",
       "10    15.0  25.691177\n",
       "11    18.9  17.348375\n",
       "12    21.7  25.209809"
      ]
     },
     "execution_count": 14,
     "metadata": {},
     "output_type": "execute_result"
    }
   ],
   "source": [
    "y_pred = []\n",
    "for i in range (0,len(yy)):\n",
    "    y_pred.append((-0.14976725290819656 * df['x1'][i] ) +0.12914690508122942 * df['x2'][i] + 26.05821931249631)\n",
    "y_pred\n",
    "df1 = pd.DataFrame({'Actual': yy, 'Predicted': y_pred})\n",
    "df1"
   ]
  },
  {
   "cell_type": "code",
   "execution_count": 15,
   "metadata": {},
   "outputs": [
    {
     "name": "stdout",
     "output_type": "stream",
     "text": [
      "Mean Absolute Error: 4.986278207518006\n",
      "Mean Squared Error: 37.81865279426905\n",
      "Root Mean Squared Error: 6.149687211092044\n"
     ]
    }
   ],
   "source": [
    "print('Mean Absolute Error:', metrics.mean_absolute_error(yy, y_pred))  \n",
    "print('Mean Squared Error:', metrics.mean_squared_error(yy, y_pred))  \n",
    "print('Root Mean Squared Error:', np.sqrt(metrics.mean_squared_error(yy, y_pred)))"
   ]
  },
  {
   "cell_type": "code",
   "execution_count": 16,
   "metadata": {},
   "outputs": [],
   "source": [
    "def predict(x1_value,x2_value):\n",
    "    #y = w1*x + w2\n",
    "    y = []\n",
    "    y.append((x1_value * -0.14976725290819656) + (x2_value * 0.12914690508122942) + 26.05821931249631)\n",
    "    return y\n"
   ]
  },
  {
   "cell_type": "code",
   "execution_count": 17,
   "metadata": {},
   "outputs": [
    {
     "data": {
      "text/plain": [
       "[26.80196644736806]"
      ]
     },
     "execution_count": 17,
     "metadata": {},
     "output_type": "execute_result"
    }
   ],
   "source": [
    "predict(4.89000000e-01,6.32600000e+00)"
   ]
  },
  {
   "cell_type": "code",
   "execution_count": null,
   "metadata": {},
   "outputs": [],
   "source": []
  },
  {
   "cell_type": "code",
   "execution_count": 18,
   "metadata": {},
   "outputs": [],
   "source": [
    "import plotly\n",
    "import plotly.graph_objs as go\n",
    "import plotly.express as px"
   ]
  },
  {
   "cell_type": "code",
   "execution_count": 28,
   "metadata": {},
   "outputs": [
    {
     "data": {
      "text/plain": [
       "'temp-plot.html'"
      ]
     },
     "execution_count": 28,
     "metadata": {},
     "output_type": "execute_result"
    }
   ],
   "source": [
    "# Scatter all points\n",
    "a = go.Scatter3d(x=df['x1'],\n",
    "                    y=yy,\n",
    "                    z=df['x2'],\n",
    "                    marker=dict(opacity=0.9,\n",
    "                                colorscale='Blues',\n",
    "                                size=5),\n",
    "                                line=dict (width=0.02),\n",
    "                                mode='markers')\n",
    "#draw best fitted plane\n",
    "b = {\n",
    "    'type': 'mesh3d',        \n",
    "    'x': df['x1'],\n",
    "    'y': y_pred,\n",
    "    'z': df['x2'],\n",
    "    'color': 'red',\n",
    "    'opacity': 0.5,\n",
    "}\n",
    "\n",
    "data = [a,b]\n",
    "\n",
    "plotly.offline.plot({\"data\": data})\n"
   ]
  },
  {
   "cell_type": "code",
   "execution_count": 30,
   "metadata": {},
   "outputs": [],
   "source": [
    "# from IPython.display import IFrame\n",
    "\n",
    "# IFrame(src='./temp-plot.html', width=700, height=600)"
   ]
  },
  {
   "cell_type": "code",
   "execution_count": 39,
   "metadata": {
    "scrolled": true
   },
   "outputs": [
    {
     "data": {
      "text/html": [
       "<h1>RESULT OF ABOVE CELL</h1>\n",
       "<img src=\"ML_graph1.PNG\">\n"
      ],
      "text/plain": [
       "<IPython.core.display.HTML object>"
      ]
     },
     "metadata": {},
     "output_type": "display_data"
    }
   ],
   "source": [
    "%%HTML\n",
    "<h1>RESULT OF ABOVE CELL</h1>\n",
    "<img src=\"ML_graph1.PNG\">"
   ]
  },
  {
   "cell_type": "markdown",
   "metadata": {},
   "source": [
    "## Using sklearn"
   ]
  },
  {
   "cell_type": "code",
   "execution_count": 22,
   "metadata": {},
   "outputs": [],
   "source": [
    "from sklearn.linear_model import LinearRegression"
   ]
  },
  {
   "cell_type": "code",
   "execution_count": 23,
   "metadata": {},
   "outputs": [
    {
     "data": {
      "text/plain": [
       "LinearRegression(copy_X=True, fit_intercept=True, n_jobs=None, normalize=False)"
      ]
     },
     "execution_count": 23,
     "metadata": {},
     "output_type": "execute_result"
    }
   ],
   "source": [
    "model2 = LinearRegression()\n",
    "model2.fit(df[['x0','x1']] ,yy)\n"
   ]
  },
  {
   "cell_type": "code",
   "execution_count": 24,
   "metadata": {},
   "outputs": [],
   "source": [
    "sample_house = df[['x0','x1']].values\n",
    "# TODO: Predict housing price for the sample_house\n",
    "prediction = model2.predict(sample_house)"
   ]
  },
  {
   "cell_type": "code",
   "execution_count": 25,
   "metadata": {},
   "outputs": [
    {
     "data": {
      "text/plain": [
       "array([25.88640656, 24.98331673, 25.98928607, 25.88587658, 25.87344358,\n",
       "       25.75530429, 25.06326314, 25.8348228 , 25.89775361, 18.54810896,\n",
       "       25.67067192, 18.29214949, 25.91959627])"
      ]
     },
     "execution_count": 25,
     "metadata": {},
     "output_type": "execute_result"
    }
   ],
   "source": [
    "prediction"
   ]
  },
  {
   "cell_type": "code",
   "execution_count": 26,
   "metadata": {},
   "outputs": [
    {
     "data": {
      "text/html": [
       "<div>\n",
       "<style scoped>\n",
       "    .dataframe tbody tr th:only-of-type {\n",
       "        vertical-align: middle;\n",
       "    }\n",
       "\n",
       "    .dataframe tbody tr th {\n",
       "        vertical-align: top;\n",
       "    }\n",
       "\n",
       "    .dataframe thead th {\n",
       "        text-align: right;\n",
       "    }\n",
       "</style>\n",
       "<table border=\"1\" class=\"dataframe\">\n",
       "  <thead>\n",
       "    <tr style=\"text-align: right;\">\n",
       "      <th></th>\n",
       "      <th>Actual</th>\n",
       "      <th>Predicted</th>\n",
       "    </tr>\n",
       "  </thead>\n",
       "  <tbody>\n",
       "    <tr>\n",
       "      <th>0</th>\n",
       "      <td>24.0</td>\n",
       "      <td>25.886407</td>\n",
       "    </tr>\n",
       "    <tr>\n",
       "      <th>1</th>\n",
       "      <td>21.6</td>\n",
       "      <td>24.983317</td>\n",
       "    </tr>\n",
       "    <tr>\n",
       "      <th>2</th>\n",
       "      <td>34.7</td>\n",
       "      <td>25.989286</td>\n",
       "    </tr>\n",
       "    <tr>\n",
       "      <th>3</th>\n",
       "      <td>33.4</td>\n",
       "      <td>25.885877</td>\n",
       "    </tr>\n",
       "    <tr>\n",
       "      <th>4</th>\n",
       "      <td>36.2</td>\n",
       "      <td>25.873444</td>\n",
       "    </tr>\n",
       "    <tr>\n",
       "      <th>5</th>\n",
       "      <td>28.7</td>\n",
       "      <td>25.755304</td>\n",
       "    </tr>\n",
       "    <tr>\n",
       "      <th>6</th>\n",
       "      <td>22.9</td>\n",
       "      <td>25.063263</td>\n",
       "    </tr>\n",
       "    <tr>\n",
       "      <th>7</th>\n",
       "      <td>27.1</td>\n",
       "      <td>25.834823</td>\n",
       "    </tr>\n",
       "    <tr>\n",
       "      <th>8</th>\n",
       "      <td>16.5</td>\n",
       "      <td>25.897754</td>\n",
       "    </tr>\n",
       "    <tr>\n",
       "      <th>9</th>\n",
       "      <td>18.9</td>\n",
       "      <td>18.548109</td>\n",
       "    </tr>\n",
       "    <tr>\n",
       "      <th>10</th>\n",
       "      <td>15.0</td>\n",
       "      <td>25.670672</td>\n",
       "    </tr>\n",
       "    <tr>\n",
       "      <th>11</th>\n",
       "      <td>18.9</td>\n",
       "      <td>18.292149</td>\n",
       "    </tr>\n",
       "    <tr>\n",
       "      <th>12</th>\n",
       "      <td>21.7</td>\n",
       "      <td>25.919596</td>\n",
       "    </tr>\n",
       "  </tbody>\n",
       "</table>\n",
       "</div>"
      ],
      "text/plain": [
       "    Actual  Predicted\n",
       "0     24.0  25.886407\n",
       "1     21.6  24.983317\n",
       "2     34.7  25.989286\n",
       "3     33.4  25.885877\n",
       "4     36.2  25.873444\n",
       "5     28.7  25.755304\n",
       "6     22.9  25.063263\n",
       "7     27.1  25.834823\n",
       "8     16.5  25.897754\n",
       "9     18.9  18.548109\n",
       "10    15.0  25.670672\n",
       "11    18.9  18.292149\n",
       "12    21.7  25.919596"
      ]
     },
     "execution_count": 26,
     "metadata": {},
     "output_type": "execute_result"
    }
   ],
   "source": [
    "df2 = pd.DataFrame({'Actual': yy, 'Predicted': prediction})\n",
    "df2"
   ]
  },
  {
   "cell_type": "code",
   "execution_count": 27,
   "metadata": {},
   "outputs": [
    {
     "name": "stdout",
     "output_type": "stream",
     "text": [
      "Mean Absolute Error: 4.880155111906583\n",
      "Mean Squared Error: 37.64712653983013\n",
      "Root Mean Squared Error: 6.135725428979864\n"
     ]
    }
   ],
   "source": [
    "print('Mean Absolute Error:', metrics.mean_absolute_error(yy, prediction))  \n",
    "print('Mean Squared Error:', metrics.mean_squared_error(yy, prediction))  \n",
    "print('Root Mean Squared Error:', np.sqrt(metrics.mean_squared_error(yy, prediction)))"
   ]
  },
  {
   "cell_type": "code",
   "execution_count": null,
   "metadata": {},
   "outputs": [],
   "source": []
  },
  {
   "cell_type": "code",
   "execution_count": null,
   "metadata": {},
   "outputs": [],
   "source": []
  }
 ],
 "metadata": {
  "kernelspec": {
   "display_name": "Python 3 (ipykernel)",
   "language": "python",
   "name": "python3"
  },
  "language_info": {
   "codemirror_mode": {
    "name": "ipython",
    "version": 3
   },
   "file_extension": ".py",
   "mimetype": "text/x-python",
   "name": "python",
   "nbconvert_exporter": "python",
   "pygments_lexer": "ipython3",
   "version": "3.9.5"
  }
 },
 "nbformat": 4,
 "nbformat_minor": 4
}
